{
 "cells": [
  {
   "cell_type": "markdown",
   "metadata": {},
   "source": [
    "# Mi primer Notebook!"
   ]
  },
  {
   "cell_type": "markdown",
   "metadata": {},
   "source": [
    "2CA. Pérez Hernández Alejandro"
   ]
  },
  {
   "cell_type": "code",
   "execution_count": 1,
   "metadata": {},
   "outputs": [
    {
     "name": "stdout",
     "output_type": "stream",
     "text": [
      "Hola mundo\n"
     ]
    }
   ],
   "source": [
    "print(\"Hola mundo\")"
   ]
  },
  {
   "cell_type": "markdown",
   "metadata": {},
   "source": [
    "## Mis primeros descriptivos con Panda"
   ]
  },
  {
   "cell_type": "markdown",
   "metadata": {},
   "source": [
    "Texto 1"
   ]
  },
  {
   "cell_type": "code",
   "execution_count": null,
   "metadata": {},
   "outputs": [],
   "source": [
    "#Importa la biblioteca pandas y la renombra como pd para manejar datos facilmente\n",
    "import pandas as pd"
   ]
  },
  {
   "cell_type": "markdown",
   "metadata": {},
   "source": [
    "Texto 2"
   ]
  },
  {
   "cell_type": "code",
   "execution_count": null,
   "metadata": {},
   "outputs": [],
   "source": [
    "#Crean un diccionario llamado datos con dos claves: 'edad' y 'peso. \n",
    "datos = {stas asociadas contienen valores numéricos.\n",
    "'edad': [8,9,10,11,12],\n",
    "'peso': [30,32,35,37,40]\n",
    "}\n",
    "#El diccionario se convierte en un DataFrame de pandas \n",
    "df= pd.DataFrame(datos)"
   ]
  },
  {
   "cell_type": "markdown",
   "metadata": {},
   "source": [
    "Texto 3"
   ]
  },
  {
   "cell_type": "code",
   "execution_count": null,
   "metadata": {},
   "outputs": [
    {
     "name": "stdout",
     "output_type": "stream",
     "text": [
      "Mesia de edad 10.0\n",
      "Desviacion tipica edad 1.5811388300841898\n",
      "Media de peso 34.8\n",
      "Desviacion tipica de peso 3.9623225512317903\n"
     ]
    }
   ],
   "source": [
    "# Calcula la media y la desviación típica  de  \"edad\" y \"peso\". Luego, imprime estos valores de manera legible en la consola. Las funciones mean() y std() se utilizan para obtener la media y la desviación estándar, respectivamente\n",
    "media_edad = df['edad'].mean()\n",
    "desviacion_tipica_edad = df['edad'].std()\n",
    "\n",
    "media_peso = df['peso'].mean()\n",
    "desviacion_tipica_peso = df['peso'].std()\n",
    "\n",
    "print(\"Mesia de edad\",media_edad)\n",
    "print(\"Desviacion tipica edad\",desviacion_tipica_edad)\n",
    "print(\"Media de peso\",media_peso)\n",
    "print(\"Desviacion tipica de peso\",desviacion_tipica_peso)\n",
    "\n"
   ]
  }
 ],
 "metadata": {
  "kernelspec": {
   "display_name": "Python 3",
   "language": "python",
   "name": "python3"
  },
  "language_info": {
   "codemirror_mode": {
    "name": "ipython",
    "version": 3
   },
   "file_extension": ".py",
   "mimetype": "text/x-python",
   "name": "python",
   "nbconvert_exporter": "python",
   "pygments_lexer": "ipython3",
   "version": "3.11.9"
  }
 },
 "nbformat": 4,
 "nbformat_minor": 2
}
